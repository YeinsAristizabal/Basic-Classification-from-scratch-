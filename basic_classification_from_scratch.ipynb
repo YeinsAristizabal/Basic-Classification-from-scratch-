{
  "nbformat": 4,
  "nbformat_minor": 0,
  "metadata": {
    "colab": {
      "name": "basic_classification_from scratch.ipynb",
      "provenance": [],
      "collapsed_sections": []
    },
    "kernelspec": {
      "name": "python3",
      "display_name": "Python 3"
    },
    "language_info": {
      "name": "python"
    }
  },
  "cells": [
    {
      "cell_type": "code",
      "metadata": {
        "id": "iwOqi4GgLlfg"
      },
      "source": [
        "import numpy as np\n",
        "import matplotlib.pyplot as plt\n",
        "from mpl_toolkits.mplot3d import Axes3D\n",
        "\n",
        "from sklearn.datasets import make_blobs\n",
        "from sklearn.model_selection import train_test_split"
      ],
      "execution_count": 1,
      "outputs": []
    },
    {
      "cell_type": "code",
      "metadata": {
        "colab": {
          "base_uri": "https://localhost:8080/",
          "height": 265
        },
        "id": "P2eGMIKoLjzk",
        "outputId": "ef81e4c7-b456-4270-c406-4ae741e693c4"
      },
      "source": [
        "# Generate random data \n",
        "\n",
        "X, Y = make_blobs(n_features=2, centers=2)\n",
        "\n",
        "plt.scatter(X[Y==0, 0], X[Y==0, 1], marker='o', s=75, edgecolor='k')\n",
        "plt.scatter(X[Y==1, 0], X[Y==1, 1], marker='o', s=75, edgecolor='k')\n",
        "plt.show()"
      ],
      "execution_count": 19,
      "outputs": [
        {
          "output_type": "display_data",
          "data": {
            "image/png": "[encoded data removed]",
            "text/plain": [
              "<Figure size 432x288 with 1 Axes>"
            ]
          },
          "metadata": {
            "needs_background": "light"
          }
        }
      ]
    },
    {
      "cell_type": "code",
      "metadata": {
        "id": "sbR-ARvHMWpo"
      },
      "source": [
        "def y_predict(X, y, w, b):\n",
        "    z = np.dot(X, w) + b\n",
        "    a = sigmoid(z)\n",
        "    a[a >= 0.5] = 1\n",
        "    a[a < 0.5] = 0\n",
        "    return a\n",
        "\n",
        "def sigmoid(x):\n",
        "  return 1/(1 + np.exp(-x))\n",
        "\n",
        "\n",
        "def model(X, y, learning_rate, iterations):\n",
        "  n = X.shape[1]\n",
        "  m = X.shape[0]\n",
        "  \n",
        "  w = np.zeros(n)\n",
        "  b = 0\n",
        "  cost_list = []\n",
        "  \n",
        "  for i in range(iterations):\n",
        "      \n",
        "      z = np.dot(X, w) + b\n",
        "      a = sigmoid(z)\n",
        "      \n",
        "      # Cost\n",
        "      cost = -(1/m)*np.sum( y*np.log(a) + (1-y)*np.log(1-a))\n",
        "      \n",
        "      # Gradient Descent\n",
        "      dw = (1/m)*np.dot(X.T, (a-y))\n",
        "      db = (1/m)*np.sum(a-y)\n",
        "      \n",
        "      w = w - learning_rate*dw\n",
        "      b = b - learning_rate*db\n",
        "      \n",
        "      # Cost\n",
        "      cost_list.append(cost)\n",
        "      \n",
        "  return w, b, cost_list"
      ],
      "execution_count": 20,
      "outputs": []
    },
    {
      "cell_type": "code",
      "metadata": {
        "colab": {
          "base_uri": "https://localhost:8080/",
          "height": 265
        },
        "id": "cjvXkxMbMq_v",
        "outputId": "f74e821a-ac44-47e4-a502-4d4ac6bf2c1d"
      },
      "source": [
        "iterations = 4000\n",
        "learning_rate = 0.1\n",
        "\n",
        "w, b, cost_list = model(X, Y, learning_rate, iterations)\n",
        "cost_list = np.reshape(cost_list, (len(cost_list),1))\n",
        "\n",
        "y_ = y_predict(X, Y, w, b)\n",
        "\n",
        "\n",
        "def draw_border(X, Y):\n",
        "    # Minimum and maximum value and filling with zeros\n",
        "    x_min, x_max = X[:, 0].min() - .5, X[:, 0].max() + .5\n",
        "    y_min, y_max = X[:, 1].min() - .5, X[:, 1].max() + .5\n",
        "    h = 0.01\n",
        "\n",
        "    # Points grid\n",
        "    xx, yy = np.meshgrid(np.arange(x_min, x_max, h), np.arange(y_min, y_max, h))\n",
        "\n",
        "    # Predict categories for each point on the grid\n",
        "    xx_ = np.reshape(xx, (xx.shape[0]*xx.shape[1],1))\n",
        "    yy_ = np.reshape(yy, (yy.shape[0]*yy.shape[1],1))\n",
        "\n",
        "    X1 = np.concatenate((xx_ ,yy_), axis=1)\n",
        "    y_ = y_predict(X1, Y, w, b)\n",
        "    y_ = np.reshape(y_, (xx.shape[0], xx.shape[1]))\n",
        "\n",
        "    fig = plt.figure()\n",
        "    plt.contourf(xx, yy, y_, cmap='summer', alpha=0.8)\n",
        "\n",
        "    plt.scatter(X[Y==0, 0],X[Y==0, 1], color='yellow', edgecolor='k', label='Category: 0')\n",
        "    plt.scatter(X[Y==1, 0],X[Y==1, 1], color='darkorange', edgecolor='k', label='Category: 1')\n",
        "    plt.legend()\n",
        "    plt.show()\n",
        "\n",
        "draw_border(X, Y)"
      ],
      "execution_count": 21,
      "outputs": [
        {
          "output_type": "display_data",
          "data": {
            "image/png": "[encoded data removed]",
            "text/plain": [
              "<Figure size 432x288 with 1 Axes>"
            ]
          },
          "metadata": {
            "needs_background": "light"
          }
        }
      ]
    },
    {
      "cell_type": "code",
      "metadata": {
        "colab": {
          "base_uri": "https://localhost:8080/"
        },
        "id": "ukEOJH9xNo82",
        "outputId": "5117d841-6f83-4812-dd91-37c49556cc45"
      },
      "source": [
        "def accuracy(X, y, w, b):\n",
        "    \n",
        "    z = np.dot(X, w) + b\n",
        "    a = sigmoid(z)\n",
        "    a = a > 0.5\n",
        "    a = np.array(a, dtype = 'int64')\n",
        "    acc = (1 - np.sum(np.abs(a - y))/X.shape[0])*100\n",
        "    print(\"Accuracy of the model is : \", round(acc, 2), \"%\")\n",
        "\n",
        "accuracy(X, Y, w, b)\n",
        "print('Parameter w: ', w, 'Parameter b: ', b)"
      ],
      "execution_count": 22,
      "outputs": [
        {
          "output_type": "stream",
          "name": "stdout",
          "text": [
            "Accuracy of the model is :  95.0 %\n",
            "Parameter w:  [ 2.87777241 -2.17010762] Parameter b:  2.3989801482168387\n"
          ]
        }
      ]
    }
  ]
}